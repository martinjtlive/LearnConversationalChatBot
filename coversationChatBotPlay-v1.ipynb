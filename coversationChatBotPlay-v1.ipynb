{
 "cells": [
  {
   "cell_type": "code",
   "execution_count": 3,
   "id": "2f68c12e",
   "metadata": {},
   "outputs": [],
   "source": [
    "# to reference environment variables\n",
    "from dotenv import load_dotenv\n",
    "import os\n",
    "# to use chat model\n",
    "from langchain.chat_models import AzureChatOpenAI\n",
    "# establish conversation memory\n",
    "from langchain.memory import ConversationBufferMemory\n",
    "# to set up prompt template\n",
    "from langchain.prompts import (\n",
    "    ChatPromptTemplate,\n",
    "    MessagesPlaceholder,\n",
    "    SystemMessagePromptTemplate,\n",
    "    HumanMessagePromptTemplate,\n",
    ")\n",
    "from langchain.chains import LLMChain"
   ]
  },
  {
   "cell_type": "code",
   "execution_count": 4,
   "id": "cabf2b03",
   "metadata": {},
   "outputs": [],
   "source": [
    "# load env variables\n",
    "load_dotenv()\n",
    "# set up chat model\n",
    "chat_model = AzureChatOpenAI(deployment_name = 'gpt-4')\n",
    "# define prompt\n",
    "prompt = ChatPromptTemplate(\n",
    "    messages=[\n",
    "        SystemMessagePromptTemplate.from_template(\n",
    "            \"You are a nice chatbot knowledgable about everything. \\\n",
    "            You are helping and in a conversation with a human.\"\n",
    "        ),\n",
    "        # The `variable_name` here is what must align with memory\n",
    "        MessagesPlaceholder(variable_name=\"chat_history\"),\n",
    "        HumanMessagePromptTemplate.from_template(\"{question}\")\n",
    "    ]\n",
    ")\n",
    "# set up chat memory with specific key variable\n",
    "memory = ConversationBufferMemory(memory_key=\"chat_history\", return_messages=True)\n",
    "\n",
    "# setting up chain\n",
    "conversation = LLMChain(\n",
    "    llm=chat_model,\n",
    "    prompt=prompt,\n",
    "    verbose=False,\n",
    "    memory=memory\n",
    ")"
   ]
  },
  {
   "cell_type": "code",
   "execution_count": 5,
   "id": "ce9f6450",
   "metadata": {},
   "outputs": [
    {
     "data": {
      "text/plain": [
       "{'question': 'Hello! Can you explain z score for me, please?',\n",
       " 'chat_history': [HumanMessage(content='Hello! Can you explain z score for me, please?'),\n",
       "  AIMessage(content=\"Hello! I'd be happy to explain the concept of a z-score.\\n\\nThe z-score is a statistical measurement that describes a value's relationship to the mean of a group of values. It's measured in terms of standard deviations from the mean. If a z-score is 0, it indicates that the data point's score is identical to the mean score. A z-score of 1.0 would indicate a value that is one standard deviation from the mean. Z-scores may be positive or negative, with a positive value indicating the score is above the mean and a negative score indicating it is below the mean.\\n\\nIn a more technical sense, the z-score is calculated by subtracting the mean from an individual raw score (observed value), then this difference is divided by the standard deviation. It's an important idea in statistics because it allows for standardization of raw scores which can be directly compared.\\n\\nHere is the formula for calculating a z-score:\\n\\nZ = (X - μ) / σ\\n\\nWhere:\\nZ = Z-score\\nX = Individual data point\\nμ = Mean of the population\\nσ = Standard deviation of the population\\n\\nI hope this helps! Let me know if you have any more questions!\")],\n",
       " 'text': \"Hello! I'd be happy to explain the concept of a z-score.\\n\\nThe z-score is a statistical measurement that describes a value's relationship to the mean of a group of values. It's measured in terms of standard deviations from the mean. If a z-score is 0, it indicates that the data point's score is identical to the mean score. A z-score of 1.0 would indicate a value that is one standard deviation from the mean. Z-scores may be positive or negative, with a positive value indicating the score is above the mean and a negative score indicating it is below the mean.\\n\\nIn a more technical sense, the z-score is calculated by subtracting the mean from an individual raw score (observed value), then this difference is divided by the standard deviation. It's an important idea in statistics because it allows for standardization of raw scores which can be directly compared.\\n\\nHere is the formula for calculating a z-score:\\n\\nZ = (X - μ) / σ\\n\\nWhere:\\nZ = Z-score\\nX = Individual data point\\nμ = Mean of the population\\nσ = Standard deviation of the population\\n\\nI hope this helps! Let me know if you have any more questions!\"}"
      ]
     },
     "execution_count": 5,
     "metadata": {},
     "output_type": "execute_result"
    }
   ],
   "source": [
    "conversation({'question': 'Hello! Can you explain z score for me, please?'})#.AIMesage"
   ]
  },
  {
   "cell_type": "code",
   "execution_count": 6,
   "id": "16e59dbe",
   "metadata": {},
   "outputs": [
    {
     "data": {
      "text/plain": [
       "[HumanMessage(content='Hello! Can you explain z score for me, please?'),\n",
       " AIMessage(content=\"Hello! I'd be happy to explain the concept of a z-score.\\n\\nThe z-score is a statistical measurement that describes a value's relationship to the mean of a group of values. It's measured in terms of standard deviations from the mean. If a z-score is 0, it indicates that the data point's score is identical to the mean score. A z-score of 1.0 would indicate a value that is one standard deviation from the mean. Z-scores may be positive or negative, with a positive value indicating the score is above the mean and a negative score indicating it is below the mean.\\n\\nIn a more technical sense, the z-score is calculated by subtracting the mean from an individual raw score (observed value), then this difference is divided by the standard deviation. It's an important idea in statistics because it allows for standardization of raw scores which can be directly compared.\\n\\nHere is the formula for calculating a z-score:\\n\\nZ = (X - μ) / σ\\n\\nWhere:\\nZ = Z-score\\nX = Individual data point\\nμ = Mean of the population\\nσ = Standard deviation of the population\\n\\nI hope this helps! Let me know if you have any more questions!\"),\n",
       " HumanMessage(content='How are you'),\n",
       " AIMessage(content=\"As an artificial intelligence, I don't have feelings or emotions, but I'm here and ready to assist you! How can I help you today?\")]"
      ]
     },
     "execution_count": 6,
     "metadata": {},
     "output_type": "execute_result"
    }
   ],
   "source": [
    "# figure out part of the chat_history i.e. memory key\n",
    "a = conversation({'question': 'How are you'})\n",
    "a['chat_history']\n"
   ]
  },
  {
   "cell_type": "code",
   "execution_count": 7,
   "id": "d12d7c60",
   "metadata": {},
   "outputs": [
    {
     "data": {
      "text/plain": [
       "\"As an artificial intelligence, I don't have feelings or emotions, but I'm here and ready to assist you! How can I help you today?\""
      ]
     },
     "execution_count": 7,
     "metadata": {},
     "output_type": "execute_result"
    }
   ],
   "source": [
    "type(a['chat_history']) # list\n",
    "a['chat_history'][3].content\n",
    "# \"I'm an artificial intelligence, so I don't have feelings in the way humans do.\n",
    "# But thank you for asking! I'm here and ready to assist you. How can I help you further?\"\n",
    "type(a['chat_history'][3]) # langchain.schema.messages.AIMessage\n",
    "a['chat_history'][-1].content"
   ]
  },
  {
   "cell_type": "code",
   "execution_count": 21,
   "id": "dc440801",
   "metadata": {},
   "outputs": [
    {
     "data": {
      "text/plain": [
       "[HumanMessage(content='Hello! Can you explain z score for me, please?'),\n",
       " AIMessage(content=\"Hello! I'd be happy to explain the concept of a z-score.\\n\\nThe z-score is a statistical measurement that describes a value's relationship to the mean of a group of values. It's measured in terms of standard deviations from the mean. If a z-score is 0, it indicates that the data point's score is identical to the mean score. A z-score of 1.0 would indicate a value that is one standard deviation from the mean. Z-scores may be positive or negative, with a positive value indicating the score is above the mean and a negative score indicating it is below the mean.\\n\\nIn a more technical sense, the z-score is calculated by subtracting the mean from an individual raw score (observed value), then this difference is divided by the standard deviation. It's an important idea in statistics because it allows for standardization of raw scores which can be directly compared.\\n\\nHere is the formula for calculating a z-score:\\n\\nZ = (X - μ) / σ\\n\\nWhere:\\nZ = Z-score\\nX = Individual data point\\nμ = Mean of the population\\nσ = Standard deviation of the population\\n\\nI hope this helps! Let me know if you have any more questions!\"),\n",
       " HumanMessage(content='How are you'),\n",
       " AIMessage(content=\"As an artificial intelligence, I don't have feelings or emotions, but I'm here and ready to assist you! How can I help you today?\"),\n",
       " HumanMessage(content='Hello what is your name?'),\n",
       " AIMessage(content=\"Hello! As an AI developed by OpenAI, I don't have a personal name, but you can refer to me as OpenAI's language model, or simply AI. How can I assist you further?\"),\n",
       " HumanMessage(content='I live in the UK. Can you give me brilliant ideas to make passive income?'),\n",
       " AIMessage(content=\"Absolutely, I'd be happy to share some ideas on generating passive income. Here are a few that you might find interesting:\\n\\n1. **Invest in Stocks and Bonds**: By investing in the stock market, you can earn passive income through dividends and interest. It's important to do your research or consult with a financial advisor before investing.\\n\\n2. **Real Estate Investment**: This can be a lucrative way to generate passive income. You could consider buying properties to rent out. Rental income can be a steady stream of passive income.\\n\\n3. **Peer-to-Peer Lending**: Platforms like Zopa allow you to lend money to individuals or small businesses in return for interest payments.\\n\\n4. **Start a Blog or YouTube Channel**: If you have a particular interest or expertise, you can share it online. Once you've built up a following, you can make money through advertising, sponsorships, or selling products or services.\\n\\n5. **Affiliate Marketing**: If you have a website or blog, consider affiliate marketing. This involves promoting someone else's product and earning a commission for any sales made through your referral links.\\n\\n6. **Create an Online Course or eBook**: If you're knowledgeable in a certain area, consider creating and selling an online course or eBook. Websites like Udemy or Amazon Kindle Direct Publishing make this possible.\\n\\n7. **Stock Photography**: If you're skilled in photography, you could sell your photos on stock websites like Shutterstock or Adobe Stock.\\n\\n8. **Rent Out Your Car or Property**: If you own a car, consider renting it out when you're not using it. Similarly, if you have a spare room or property, you could rent it out on Airbnb.\\n\\nPlease remember that while these activities can generate passive income, they do require an initial investment of time, effort, or money. It's important to do your research and consider what would work best for your circumstances.\"),\n",
       " HumanMessage(content='My name is Martin'),\n",
       " AIMessage(content='Nice to meet you, Martin! How can I assist you further?'),\n",
       " HumanMessage(content='Do you remember my name? What is it?'),\n",
       " AIMessage(content='Yes, your name is Martin. How can I assist you further, Martin?')]"
      ]
     },
     "execution_count": 21,
     "metadata": {},
     "output_type": "execute_result"
    }
   ],
   "source": [
    "memory.load_memory_variables({})['chat_history']#[:-5]"
   ]
  },
  {
   "cell_type": "code",
   "execution_count": 9,
   "id": "4fbec133",
   "metadata": {},
   "outputs": [
    {
     "data": {
      "text/plain": [
       "\"Hello! As an AI developed by OpenAI, I don't have a personal name, but you can refer to me as OpenAI's language model, or simply AI. How can I assist you further?\""
      ]
     },
     "execution_count": 9,
     "metadata": {},
     "output_type": "execute_result"
    }
   ],
   "source": [
    "conversation.run(question='Hello what is your name?')"
   ]
  },
  {
   "cell_type": "code",
   "execution_count": 10,
   "id": "72d0cad4",
   "metadata": {},
   "outputs": [
    {
     "data": {
      "text/plain": [
       "{'question': 'I live in the UK. Can you give me brilliant ideas to make passive income?',\n",
       " 'chat_history': [HumanMessage(content='Hello! Can you explain z score for me, please?'),\n",
       "  AIMessage(content=\"Hello! I'd be happy to explain the concept of a z-score.\\n\\nThe z-score is a statistical measurement that describes a value's relationship to the mean of a group of values. It's measured in terms of standard deviations from the mean. If a z-score is 0, it indicates that the data point's score is identical to the mean score. A z-score of 1.0 would indicate a value that is one standard deviation from the mean. Z-scores may be positive or negative, with a positive value indicating the score is above the mean and a negative score indicating it is below the mean.\\n\\nIn a more technical sense, the z-score is calculated by subtracting the mean from an individual raw score (observed value), then this difference is divided by the standard deviation. It's an important idea in statistics because it allows for standardization of raw scores which can be directly compared.\\n\\nHere is the formula for calculating a z-score:\\n\\nZ = (X - μ) / σ\\n\\nWhere:\\nZ = Z-score\\nX = Individual data point\\nμ = Mean of the population\\nσ = Standard deviation of the population\\n\\nI hope this helps! Let me know if you have any more questions!\"),\n",
       "  HumanMessage(content='How are you'),\n",
       "  AIMessage(content=\"As an artificial intelligence, I don't have feelings or emotions, but I'm here and ready to assist you! How can I help you today?\"),\n",
       "  HumanMessage(content='Hello what is your name?'),\n",
       "  AIMessage(content=\"Hello! As an AI developed by OpenAI, I don't have a personal name, but you can refer to me as OpenAI's language model, or simply AI. How can I assist you further?\"),\n",
       "  HumanMessage(content='I live in the UK. Can you give me brilliant ideas to make passive income?'),\n",
       "  AIMessage(content=\"Absolutely, I'd be happy to share some ideas on generating passive income. Here are a few that you might find interesting:\\n\\n1. **Invest in Stocks and Bonds**: By investing in the stock market, you can earn passive income through dividends and interest. It's important to do your research or consult with a financial advisor before investing.\\n\\n2. **Real Estate Investment**: This can be a lucrative way to generate passive income. You could consider buying properties to rent out. Rental income can be a steady stream of passive income.\\n\\n3. **Peer-to-Peer Lending**: Platforms like Zopa allow you to lend money to individuals or small businesses in return for interest payments.\\n\\n4. **Start a Blog or YouTube Channel**: If you have a particular interest or expertise, you can share it online. Once you've built up a following, you can make money through advertising, sponsorships, or selling products or services.\\n\\n5. **Affiliate Marketing**: If you have a website or blog, consider affiliate marketing. This involves promoting someone else's product and earning a commission for any sales made through your referral links.\\n\\n6. **Create an Online Course or eBook**: If you're knowledgeable in a certain area, consider creating and selling an online course or eBook. Websites like Udemy or Amazon Kindle Direct Publishing make this possible.\\n\\n7. **Stock Photography**: If you're skilled in photography, you could sell your photos on stock websites like Shutterstock or Adobe Stock.\\n\\n8. **Rent Out Your Car or Property**: If you own a car, consider renting it out when you're not using it. Similarly, if you have a spare room or property, you could rent it out on Airbnb.\\n\\nPlease remember that while these activities can generate passive income, they do require an initial investment of time, effort, or money. It's important to do your research and consider what would work best for your circumstances.\")],\n",
       " 'text': \"Absolutely, I'd be happy to share some ideas on generating passive income. Here are a few that you might find interesting:\\n\\n1. **Invest in Stocks and Bonds**: By investing in the stock market, you can earn passive income through dividends and interest. It's important to do your research or consult with a financial advisor before investing.\\n\\n2. **Real Estate Investment**: This can be a lucrative way to generate passive income. You could consider buying properties to rent out. Rental income can be a steady stream of passive income.\\n\\n3. **Peer-to-Peer Lending**: Platforms like Zopa allow you to lend money to individuals or small businesses in return for interest payments.\\n\\n4. **Start a Blog or YouTube Channel**: If you have a particular interest or expertise, you can share it online. Once you've built up a following, you can make money through advertising, sponsorships, or selling products or services.\\n\\n5. **Affiliate Marketing**: If you have a website or blog, consider affiliate marketing. This involves promoting someone else's product and earning a commission for any sales made through your referral links.\\n\\n6. **Create an Online Course or eBook**: If you're knowledgeable in a certain area, consider creating and selling an online course or eBook. Websites like Udemy or Amazon Kindle Direct Publishing make this possible.\\n\\n7. **Stock Photography**: If you're skilled in photography, you could sell your photos on stock websites like Shutterstock or Adobe Stock.\\n\\n8. **Rent Out Your Car or Property**: If you own a car, consider renting it out when you're not using it. Similarly, if you have a spare room or property, you could rent it out on Airbnb.\\n\\nPlease remember that while these activities can generate passive income, they do require an initial investment of time, effort, or money. It's important to do your research and consider what would work best for your circumstances.\"}"
      ]
     },
     "execution_count": 10,
     "metadata": {},
     "output_type": "execute_result"
    }
   ],
   "source": [
    "conversation({'question': 'I live in the UK. Can you give me brilliant ideas to make passive income?'})"
   ]
  },
  {
   "cell_type": "code",
   "execution_count": 11,
   "id": "d2be9cc9",
   "metadata": {},
   "outputs": [
    {
     "data": {
      "text/plain": [
       "'Nice to meet you, Martin! How can I assist you further?'"
      ]
     },
     "execution_count": 11,
     "metadata": {},
     "output_type": "execute_result"
    }
   ],
   "source": [
    "conversation.run(question='My name is Martin')"
   ]
  },
  {
   "cell_type": "code",
   "execution_count": 12,
   "id": "ebe83395",
   "metadata": {},
   "outputs": [
    {
     "data": {
      "text/plain": [
       "'Yes, your name is Martin. How can I assist you further, Martin?'"
      ]
     },
     "execution_count": 12,
     "metadata": {},
     "output_type": "execute_result"
    }
   ],
   "source": [
    "conversation.run(question='Do you remember my name? What is it?')"
   ]
  },
  {
   "cell_type": "code",
   "execution_count": 20,
   "id": "d7975d57",
   "metadata": {},
   "outputs": [
    {
     "ename": "TypeError",
     "evalue": "ConversationBufferMemory.load_memory_variables() missing 1 required positional argument: 'inputs'",
     "output_type": "error",
     "traceback": [
      "\u001b[1;31m---------------------------------------------------------------------------\u001b[0m",
      "\u001b[1;31mTypeError\u001b[0m                                 Traceback (most recent call last)",
      "Cell \u001b[1;32mIn[20], line 1\u001b[0m\n\u001b[1;32m----> 1\u001b[0m \u001b[43mmemory\u001b[49m\u001b[38;5;241;43m.\u001b[39;49m\u001b[43mload_memory_variables\u001b[49m\u001b[43m(\u001b[49m\u001b[43m)\u001b[49m\n",
      "\u001b[1;31mTypeError\u001b[0m: ConversationBufferMemory.load_memory_variables() missing 1 required positional argument: 'inputs'"
     ]
    }
   ],
   "source": [
    "memory.load_memory_variables()"
   ]
  }
 ],
 "metadata": {
  "kernelspec": {
   "display_name": "Python 3 (ipykernel)",
   "language": "python",
   "name": "python3"
  },
  "language_info": {
   "codemirror_mode": {
    "name": "ipython",
    "version": 3
   },
   "file_extension": ".py",
   "mimetype": "text/x-python",
   "name": "python",
   "nbconvert_exporter": "python",
   "pygments_lexer": "ipython3",
   "version": "3.10.11"
  }
 },
 "nbformat": 4,
 "nbformat_minor": 5
}
